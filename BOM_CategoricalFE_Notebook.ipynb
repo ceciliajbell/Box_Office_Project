{
 "cells": [
  {
   "cell_type": "markdown",
   "id": "7cfadb2b",
   "metadata": {},
   "source": [
    "## Categorical Feature Engineering"
   ]
  },
  {
   "cell_type": "markdown",
   "id": "844c1c0d",
   "metadata": {},
   "source": [
    "Importing packages "
   ]
  },
  {
   "cell_type": "code",
   "execution_count": 2,
   "id": "ccdd4dfb",
   "metadata": {},
   "outputs": [],
   "source": [
    "import pandas as pd\n",
    "import numpy as np\n",
    "import pickle\n",
    "\n",
    "from sklearn.model_selection import train_test_split\n",
    "from sklearn.linear_model import LinearRegression"
   ]
  },
  {
   "cell_type": "markdown",
   "id": "a020dbdc",
   "metadata": {},
   "source": [
    "Loading pickled dataframe"
   ]
  },
  {
   "cell_type": "code",
   "execution_count": 3,
   "id": "cb8b8767",
   "metadata": {},
   "outputs": [],
   "source": [
    "earliestrelease_notdomestic_movies2 = pd.read_pickle('earliestrelease_notdomestic_movies2.pickle')"
   ]
  },
  {
   "cell_type": "code",
   "execution_count": 4,
   "id": "d653e088",
   "metadata": {},
   "outputs": [],
   "source": [
    "smaller_df = earliestrelease_notdomestic_movies2.loc[:,['lifetime_gross', 'max_theaters', 'domestic_opening', \n",
    "                      'num_opening_theaters','domestic_total_gross', 'international_total_gross', \n",
    "                      'earliest_release_location_opening_gross', 'earliest_release_location_original_gross']]"
   ]
  },
  {
   "cell_type": "code",
   "execution_count": 5,
   "id": "aad795fb",
   "metadata": {},
   "outputs": [],
   "source": [
    "X = smaller_df.loc[:,['max_theaters','num_opening_theaters','international_total_gross', 'earliest_release_location_original_gross']]\n",
    "y = smaller_df['domestic_total_gross']"
   ]
  },
  {
   "cell_type": "code",
   "execution_count": 6,
   "id": "6c5b0e34",
   "metadata": {},
   "outputs": [],
   "source": [
    "def split_and_validate(X, y):\n",
    "    '''\n",
    "    For a set of features and target X, y, perform a 80/20 train/val split, \n",
    "    fit and validate a linear regression model, and report results\n",
    "    '''\n",
    "    \n",
    "    # perform train/val split\n",
    "    X_train, X_val, y_train, y_val = \\\n",
    "        train_test_split(X, y, test_size=0.2, random_state=42)\n",
    "    \n",
    "    # fit linear regression to training data\n",
    "    lr_model = LinearRegression()\n",
    "    lr_model.fit(X_train, y_train)\n",
    "    \n",
    "    # score fit model on validation data\n",
    "    val_score = lr_model.score(X_val, y_val)\n",
    "    \n",
    "    # report results\n",
    "    print('\\nValidation R^2 score was:', val_score)\n",
    "    print('Feature coefficient results: \\n')\n",
    "    for feature, coef in zip(X.columns, lr_model.coef_):\n",
    "        print(feature, ':', f'{coef:.2f}') "
   ]
  },
  {
   "cell_type": "code",
   "execution_count": 7,
   "id": "3b634cd3",
   "metadata": {},
   "outputs": [
    {
     "name": "stdout",
     "output_type": "stream",
     "text": [
      "<class 'pandas.core.frame.DataFrame'>\n",
      "Index: 1659 entries, Hero to News from Planet Mars\n",
      "Data columns (total 15 columns):\n",
      " #   Column                                    Non-Null Count  Dtype         \n",
      "---  ------                                    --------------  -----         \n",
      " 0   lifetime_gross                            1659 non-null   float64       \n",
      " 1   max_theaters                              1659 non-null   float64       \n",
      " 2   domestic_opening                          1659 non-null   float64       \n",
      " 3   num_opening_theaters                      1659 non-null   float64       \n",
      " 4   release_date                              1659 non-null   datetime64[ns]\n",
      " 5   domestic_distributor                      1659 non-null   object        \n",
      " 6   domestic_total_gross                      1659 non-null   float64       \n",
      " 7   international_total_gross                 1659 non-null   float64       \n",
      " 8   earliest_release_location                 1659 non-null   object        \n",
      " 9   runtime                                   1659 non-null   float64       \n",
      " 10  genres                                    1659 non-null   object        \n",
      " 11  crew                                      1659 non-null   object        \n",
      " 12  cast                                      1659 non-null   object        \n",
      " 13  earliest_release_location_opening_gross   1659 non-null   float64       \n",
      " 14  earliest_release_location_original_gross  1659 non-null   float64       \n",
      "dtypes: datetime64[ns](1), float64(9), object(5)\n",
      "memory usage: 207.4+ KB\n"
     ]
    }
   ],
   "source": [
    "earliestrelease_notdomestic_movies2.info()"
   ]
  },
  {
   "cell_type": "code",
   "execution_count": 8,
   "id": "41d56fc9",
   "metadata": {},
   "outputs": [
    {
     "data": {
      "text/plain": [
       "Drama                                    263\n",
       "Drama Romance                            132\n",
       "Comedy Drama                             110\n",
       "Comedy Drama Romance                      86\n",
       "Comedy Romance                            39\n",
       "                                        ... \n",
       "Animation Crime Drama Music Romance        1\n",
       "Adventure Drama Family                     1\n",
       "Action Adventure Animation Fantasy         1\n",
       "Comedy Drama Fantasy Romance Thriller      1\n",
       "Comedy Family Sci-Fi                       1\n",
       "Name: genres, Length: 381, dtype: int64"
      ]
     },
     "execution_count": 8,
     "metadata": {},
     "output_type": "execute_result"
    }
   ],
   "source": [
    "earliestrelease_notdomestic_movies2['genres'].value_counts()"
   ]
  },
  {
   "cell_type": "markdown",
   "id": "8c304e1a",
   "metadata": {},
   "source": [
    "Creating Domestic Distributor Dummy Feature"
   ]
  },
  {
   "cell_type": "code",
   "execution_count": 9,
   "id": "0f7abc06",
   "metadata": {},
   "outputs": [
    {
     "data": {
      "text/plain": [
       "Sony Pictures Classics                 109\n",
       "Eros International                     108\n",
       "Strand Releasing                        99\n",
       "IFC Films                               87\n",
       "Well Go USA Entertainment               84\n",
       "                                      ... \n",
       "Entertainment One                        1\n",
       "Walt Disney Studios Motion Pictures      1\n",
       "International Film Circuit               1\n",
       "Odeon                                    1\n",
       "Arc Entertainment                        1\n",
       "Name: domestic_distributor, Length: 155, dtype: int64"
      ]
     },
     "execution_count": 9,
     "metadata": {},
     "output_type": "execute_result"
    }
   ],
   "source": [
    "dd_counts = earliestrelease_notdomestic_movies2['domestic_distributor'].value_counts()\n",
    "dd_counts"
   ]
  },
  {
   "cell_type": "code",
   "execution_count": 10,
   "id": "09367904",
   "metadata": {},
   "outputs": [],
   "source": [
    "other_dd = list(dd_counts[dd_counts <= 10].index)"
   ]
  },
  {
   "cell_type": "code",
   "execution_count": 11,
   "id": "4ef6a536",
   "metadata": {},
   "outputs": [],
   "source": [
    "earliestrelease_notdomestic_movies2['domestic_distributor'] = earliestrelease_notdomestic_movies2['domestic_distributor'].replace(other_dd, 'Other')"
   ]
  },
  {
   "cell_type": "code",
   "execution_count": 12,
   "id": "615c1cc2",
   "metadata": {},
   "outputs": [
    {
     "name": "stdout",
     "output_type": "stream",
     "text": [
      "\n",
      "Validation R^2 score was: -0.30929326384313605\n",
      "Feature coefficient results: \n",
      "\n",
      "CJ Entertainment : -1773348070910782464.00\n",
      "China Lion Film Distribution : -1773348070910823424.00\n",
      "Cohen Media Group : -1773348070910710016.00\n",
      "Distrib Films : -1773348070911072000.00\n",
      "Eros International : -1773348070910324480.00\n",
      "FIP : -1773348070909558784.00\n",
      "Film Movement : -1773348070911050240.00\n",
      "First Run : -1773348070911078912.00\n",
      "IDP Distribution : -1773348070909699840.00\n",
      "IFC Films : -1773348070910569472.00\n",
      "Kino International : -1773348070910961408.00\n",
      "Kino Lorber : -1773348070911009792.00\n",
      "Lionsgate : -1773348070909059328.00\n",
      "Lorber Films : -1773348070911060992.00\n",
      "Magnolia Pictures : -1773348070910624256.00\n",
      "Miramax : -1773348070902957312.00\n",
      "Missing : -1773348070910351104.00\n",
      "Music Box Films : -1773348070910126336.00\n",
      "New Yorker Films : -1773348070911039744.00\n",
      "Oscilloscope : -1773348070910802944.00\n",
      "Other : -1773348070909676544.00\n",
      "Palm Pictures : -1773348070910854912.00\n",
      "Regent Releasing : -1773348070910902528.00\n",
      "Reliance Big Pictures : -1773348070909681408.00\n",
      "Sony Pictures Classics : -1773348070908972800.00\n",
      "Sony Pictures Entertainment (SPE) : -1773348070910553088.00\n",
      "Strand Releasing : -1773348070911004928.00\n",
      "Tartan : -1773348070910999552.00\n",
      "The Cinema Guild : -1773348070910998528.00\n",
      "The Weinstein Company : -1773348070908750080.00\n",
      "UTV Motion Pictures : -1773348070909937152.00\n",
      "Well Go USA Entertainment : -1773348070910747648.00\n",
      "Yash Raj Films : -1773348070909999616.00\n",
      "Zeitgeist Films : -1773348070910425856.00\n"
     ]
    }
   ],
   "source": [
    "split_and_validate(pd.get_dummies(earliestrelease_notdomestic_movies2['domestic_distributor']), y)"
   ]
  },
  {
   "cell_type": "code",
   "execution_count": null,
   "id": "80e3e1ec",
   "metadata": {},
   "outputs": [],
   "source": []
  }
 ],
 "metadata": {
  "kernelspec": {
   "display_name": "Python [conda env:metis] *",
   "language": "python",
   "name": "conda-env-metis-py"
  },
  "language_info": {
   "codemirror_mode": {
    "name": "ipython",
    "version": 3
   },
   "file_extension": ".py",
   "mimetype": "text/x-python",
   "name": "python",
   "nbconvert_exporter": "python",
   "pygments_lexer": "ipython3",
   "version": "3.8.8"
  }
 },
 "nbformat": 4,
 "nbformat_minor": 5
}
