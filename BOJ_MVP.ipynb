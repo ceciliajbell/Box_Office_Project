{
 "cells": [
  {
   "cell_type": "markdown",
   "id": "306d9bb3",
   "metadata": {},
   "source": [
    "# MVP"
   ]
  },
  {
   "cell_type": "markdown",
   "id": "d353c22b",
   "metadata": {},
   "source": [
    "For my MVP, I tried to build a model with a few numeric features that predicts the total domestic (US) gross of foreign language movies that are not originally released in the US. \n",
    "\n",
    "The features include the maximum number of theaters where the movie was shown as well as the interational total gross, among others. \n",
    "\n",
    "I split my data into training and test data, then into training and validation data. With this simple test-validation setup, I found that the polynomial model had the highest R^2 value. \n",
    "\n",
    "At the bottom of this notebook, you can see a plot depicting my poly model's predicted total domestic gross against the actual total domestic gross. \n",
    "\n",
    "Hopefully more features and further regularization will improve the model. "
   ]
  },
  {
   "cell_type": "markdown",
   "id": "2ff1c676",
   "metadata": {},
   "source": [
    "### Importing package "
   ]
  },
  {
   "cell_type": "code",
   "execution_count": 34,
   "id": "28ac10ca",
   "metadata": {},
   "outputs": [
    {
     "name": "stdout",
     "output_type": "stream",
     "text": [
      "Populating the interactive namespace from numpy and matplotlib\n"
     ]
    }
   ],
   "source": [
    "%pylab inline\n",
    "%config InlineBackend.figure_formats = ['retina']\n",
    "\n",
    "import pandas as pd\n",
    "import numpy as np\n",
    "import pickle\n",
    "\n",
    "import seaborn as sns \n",
    "import matplotlib.pyplot as plt\n",
    "\n",
    "from sklearn.linear_model import Lasso, Ridge, ElasticNet, LinearRegression\n",
    "from sklearn.model_selection import (cross_val_score, train_test_split, \n",
    "                                     KFold, GridSearchCV)\n",
    "from sklearn.preprocessing import StandardScaler, PolynomialFeatures\n",
    "from sklearn.metrics import r2_score"
   ]
  },
  {
   "cell_type": "markdown",
   "id": "57a897b8",
   "metadata": {},
   "source": [
    "### Loading pickled dataframe"
   ]
  },
  {
   "cell_type": "code",
   "execution_count": 35,
   "id": "5b4db1aa",
   "metadata": {},
   "outputs": [],
   "source": [
    "earliestrelease_notdomestic_movies2 = pd.read_pickle('earliestrelease_notdomestic_movies2.pickle')"
   ]
  },
  {
   "cell_type": "code",
   "execution_count": 36,
   "id": "6342a9f4",
   "metadata": {},
   "outputs": [],
   "source": [
    "smaller_df = earliestrelease_notdomestic_movies2.loc[:,['lifetime_gross', 'max_theaters', 'domestic_opening', \n",
    "                      'num_opening_theaters','domestic_total_gross', 'international_total_gross', \n",
    "                      'earliest_release_location_opening_gross', 'earliest_release_location_original_gross']]"
   ]
  },
  {
   "cell_type": "markdown",
   "id": "40bd20c6",
   "metadata": {},
   "source": [
    "### Splitting up training data into training and test set "
   ]
  },
  {
   "cell_type": "code",
   "execution_count": 37,
   "id": "c4db03cc",
   "metadata": {},
   "outputs": [],
   "source": [
    "X = smaller_df.loc[:,['max_theaters','num_opening_theaters','international_total_gross', 'earliest_release_location_original_gross']]\n",
    "y = smaller_df['domestic_total_gross']\n",
    "\n",
    "X, X_test, y, y_test = train_test_split(X, y, test_size=.2, random_state=10)"
   ]
  },
  {
   "cell_type": "markdown",
   "id": "973b2331",
   "metadata": {},
   "source": [
    "### Splitting training data into training and validation "
   ]
  },
  {
   "cell_type": "code",
   "execution_count": 38,
   "id": "c244b4e3",
   "metadata": {},
   "outputs": [],
   "source": [
    "X_train, X_val, y_train, y_val = train_test_split(X, y, test_size=.25, random_state=3)"
   ]
  },
  {
   "cell_type": "markdown",
   "id": "593b952d",
   "metadata": {},
   "source": [
    "### Setting up three models: linear, ridge, and poly"
   ]
  },
  {
   "cell_type": "code",
   "execution_count": 39,
   "id": "7b8229e7",
   "metadata": {},
   "outputs": [],
   "source": [
    "lm = LinearRegression()\n",
    "\n",
    "#Feature scaling for train, val, and test so that we can run our ridge model on each\n",
    "scaler = StandardScaler()\n",
    "\n",
    "X_train_scaled = scaler.fit_transform(X_train.values)\n",
    "X_val_scaled = scaler.transform(X_val.values)\n",
    "X_test_scaled = scaler.transform(X_test.values)\n",
    "\n",
    "lm_reg = Ridge(alpha=1)\n",
    "\n",
    "#Feature transforms for train, val, and test so that we can run our poly model on each\n",
    "poly = PolynomialFeatures(degree=2) \n",
    "\n",
    "X_train_poly = poly.fit_transform(X_train.values)\n",
    "X_val_poly = poly.transform(X_val.values)\n",
    "X_test_poly = poly.transform(X_test.values)\n",
    "\n",
    "lm_poly = LinearRegression()"
   ]
  },
  {
   "cell_type": "markdown",
   "id": "fd7f9b10",
   "metadata": {},
   "source": [
    "### Training, validating, and testing the models "
   ]
  },
  {
   "cell_type": "code",
   "execution_count": 40,
   "id": "c337623f",
   "metadata": {},
   "outputs": [
    {
     "name": "stdout",
     "output_type": "stream",
     "text": [
      "Linear Regression val R^2: 0.521\n",
      "Ridge Regression val R^2: 0.521\n",
      "Degree 2 polynomial regression val R^2: 0.856\n"
     ]
    }
   ],
   "source": [
    "lm.fit(X_train, y_train)\n",
    "print(f'Linear Regression val R^2: {lm.score(X_val, y_val):.3f}')\n",
    "\n",
    "lm_reg.fit(X_train_scaled, y_train)\n",
    "print(f'Ridge Regression val R^2: {lm_reg.score(X_val_scaled, y_val):.3f}')\n",
    "\n",
    "lm_poly.fit(X_train_poly, y_train)\n",
    "print(f'Degree 2 polynomial regression val R^2: {lm_poly.score(X_val_poly, y_val):.3f}')"
   ]
  },
  {
   "cell_type": "markdown",
   "id": "a55eeada",
   "metadata": {},
   "source": [
    "### Choosing poly "
   ]
  },
  {
   "cell_type": "code",
   "execution_count": 41,
   "id": "7adeb62f",
   "metadata": {},
   "outputs": [
    {
     "name": "stdout",
     "output_type": "stream",
     "text": [
      "Degree 2 polynomial regression val R^2: 0.641\n"
     ]
    }
   ],
   "source": [
    "lm_poly.fit(X,y)\n",
    "print(f'Degree 2 polynomial regression val R^2: {lm_poly.score(X_test, y_test):.3f}')"
   ]
  },
  {
   "cell_type": "code",
   "execution_count": 42,
   "id": "e54f785b",
   "metadata": {},
   "outputs": [],
   "source": [
    "test_set_pred = lm_poly.predict(X_test)"
   ]
  },
  {
   "cell_type": "markdown",
   "id": "886ced48",
   "metadata": {},
   "source": [
    "# Plot showing predicted domestic total gross against actual domestic total gross "
   ]
  },
  {
   "cell_type": "code",
   "execution_count": 43,
   "id": "93b2a97e",
   "metadata": {},
   "outputs": [
    {
     "data": {
      "text/plain": [
       "[<matplotlib.lines.Line2D at 0x7f9421653670>]"
      ]
     },
     "execution_count": 43,
     "metadata": {},
     "output_type": "execute_result"
    },
    {
     "data": {
      "image/png": "[encoded data removed]",
      "text/plain": [
       "<Figure size 432x288 with 1 Axes>"
      ]
     },
     "metadata": {
      "image/png": {
       "height": 271,
       "width": 362
      },
      "needs_background": "light"
     },
     "output_type": "display_data"
    }
   ],
   "source": [
    "plt.scatter(test_set_pred, y_test, alpha=.1)\n",
    "plt.plot(np.linspace(0,10000000,1000), np.linspace(0,10000000,1000))"
   ]
  },
  {
   "cell_type": "code",
   "execution_count": null,
   "id": "44673e6c",
   "metadata": {},
   "outputs": [],
   "source": []
  }
 ],
 "metadata": {
  "kernelspec": {
   "display_name": "Python [conda env:metis] *",
   "language": "python",
   "name": "conda-env-metis-py"
  },
  "language_info": {
   "codemirror_mode": {
    "name": "ipython",
    "version": 3
   },
   "file_extension": ".py",
   "mimetype": "text/x-python",
   "name": "python",
   "nbconvert_exporter": "python",
   "pygments_lexer": "ipython3",
   "version": "3.8.8"
  }
 },
 "nbformat": 4,
 "nbformat_minor": 5
}
